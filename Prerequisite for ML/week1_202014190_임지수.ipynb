{
  "nbformat": 4,
  "nbformat_minor": 0,
  "metadata": {
    "colab": {
      "provenance": []
    },
    "kernelspec": {
      "name": "python3",
      "display_name": "Python 3"
    },
    "language_info": {
      "name": "python"
    }
  },
  "cells": [
    {
      "cell_type": "code",
      "execution_count": null,
      "metadata": {
        "colab": {
          "base_uri": "https://localhost:8080/"
        },
        "id": "YDmEusLr3XCT",
        "outputId": "5ff954fd-4169-49ae-da62-cfedd7b8d910"
      },
      "outputs": [
        {
          "output_type": "stream",
          "name": "stdout",
          "text": [
            "Mounted at /gdrive\n"
          ]
        }
      ],
      "source": [
        "from google.colab import drive\n",
        "drive.mount('/gdrive', force_remount=True)"
      ]
    },
    {
      "cell_type": "code",
      "source": [
        "file_path = \"/gdrive/My Drive/colab/실습예제1.txt\"\n",
        "\n",
        "with open(file_path,\"r\",encoding=\"utf8\") as inFile:\n",
        "  lines = inFile.readlines()\n",
        "\n",
        "  for line in lines:\n",
        "    print(line)"
      ],
      "metadata": {
        "id": "tD3-oLlf33ye",
        "colab": {
          "base_uri": "https://localhost:8080/"
        },
        "outputId": "07a8fc0f-1886-430e-ce24-70447e855511"
      },
      "execution_count": null,
      "outputs": [
        {
          "output_type": "stream",
          "name": "stdout",
          "text": [
            "/gdrive/My Drive -> 개인의 구글 드라이버 경로\n",
            "\n",
            "/gdrive/My Drive/colab -> 실습 폴더 경로\n",
            "\n",
            "\n",
            "\n",
            "다음 실습 시간부터 방금 했던 대로 파일을 업로드하여 사용하시면 됩니다.\n"
          ]
        }
      ]
    },
    {
      "cell_type": "code",
      "source": [],
      "metadata": {
        "id": "dXSFWFtl5vBn"
      },
      "execution_count": null,
      "outputs": []
    }
  ]
}