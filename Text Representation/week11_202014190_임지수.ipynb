{
  "nbformat": 4,
  "nbformat_minor": 0,
  "metadata": {
    "colab": {
      "provenance": []
    },
    "kernelspec": {
      "name": "python3",
      "display_name": "Python 3"
    },
    "language_info": {
      "name": "python"
    }
  },
  "cells": [
    {
      "cell_type": "code",
      "execution_count": 1,
      "metadata": {
        "colab": {
          "base_uri": "https://localhost:8080/"
        },
        "id": "6hQwrKOKYAXU",
        "outputId": "48e80736-803f-4526-fb63-a868af5eec7b"
      },
      "outputs": [
        {
          "output_type": "stream",
          "name": "stdout",
          "text": [
            "Mounted at /gdrive\n"
          ]
        }
      ],
      "source": [
        "from google.colab import drive\n",
        "drive.mount('/gdrive', force_remount=True)"
      ]
    },
    {
      "cell_type": "code",
      "source": [
        "from gensim.models import Word2Vec\n",
        "\n",
        "k_model = Word2Vec.load('/gdrive/MyDrive/colab/word2vec/ko.bin')\n",
        "\n",
        "# korea = k_model.wv['한국']\n",
        "# seoul = k_model.wv['서울']\n",
        "# paris = k_model.wv['파리']\n",
        "# country = korea - seoul + paris\n",
        "# c_list = k_model.wv.similar_by_vector(country)\n",
        "# print(\"*한국 - 서울 + 파리\")\n",
        "# print(\"1. \" + c_list[0][0] + \" 2. \" + c_list[1][0] + \" 3. \" + c_list[2][0])"
      ],
      "metadata": {
        "id": "tmX03GH0YBXy"
      },
      "execution_count": 22,
      "outputs": []
    },
    {
      "cell_type": "code",
      "source": [
        "korea = k_model.wv['한국']\n",
        "seoul = k_model.wv['서울']\n",
        "paris = k_model.wv['파리']\n",
        "country = korea - seoul + paris\n",
        "c_list = k_model.wv.similar_by_vector(country)\n",
        "print(\"*한국 - 서울 + 파리\")\n",
        "print(\"1. \" + c_list[0][0] + \" 2. \" + c_list[1][0] + \" 3. \" + c_list[2][0])\n",
        "print()\n",
        "\n",
        "computer = k_model.wv['컴퓨터'] #컴퓨터공학 없어서 수정\n",
        "science = k_model.wv['과학'] #자연과학 없어서 수정\n",
        "human = k_model.wv['인문학']\n",
        "subject = computer - science + human\n",
        "s_list = k_model.wv.similar_by_vector(subject)\n",
        "print(\"*컴퓨터 - 과학 + 인문학\")\n",
        "print(\"1. \" + s_list[0][0] + \" 2. \" + s_list[1][0] + \" 3. \" + s_list[2][0])\n",
        "print()\n",
        "\n",
        "love = k_model.wv['사랑']\n",
        "farewell = k_model.wv['이별']\n",
        "loving = love + farewell\n",
        "l_list = k_model.wv.similar_by_vector(loving)\n",
        "print(\"*사랑 + 이별\")\n",
        "print(\"1. \" + l_list[0][0] + \" 2. \" + l_list[1][0] + \" 3. \" + l_list[2][0])\n",
        "print()\n",
        "\n",
        "chung = k_model.wv['충청북도']\n",
        "cheong = k_model.wv['청주']\n",
        "gang = k_model.wv['강원도']\n",
        "region = chung - cheong + gang\n",
        "r_list = k_model.wv.similar_by_vector(region)\n",
        "print(\"*충청북도 - 청주 + 강원도\")\n",
        "print(\"1. \" + r_list[0][0] + \" 2. \" + r_list[1][0] + \" 3. \" + r_list[2][0])\n",
        "print()\n",
        "\n",
        "hum = k_model.wv['인간']\n",
        "love = k_model.wv['사랑']\n",
        "humlov = hum - love\n",
        "hl_list = k_model.wv.similar_by_vector(humlov)\n",
        "print(\"*인간 - 사랑\")\n",
        "print(\"1. \" + hl_list[0][0] + \" 2. \" + hl_list[1][0] + \" 3. \" + hl_list[2][0])\n",
        "print()\n",
        "\n",
        "art = k_model.wv['미술']\n",
        "paint = k_model.wv['물감']\n",
        "music = k_model.wv['음악']\n",
        "arting = art - paint + music\n",
        "a_list = k_model.wv.similar_by_vector(arting)\n",
        "print(\"*미술 - 물감 + 음악\")\n",
        "print(\"1. \" + a_list[0][0] + \" 2. \" + a_list[1][0] + \" 3. \" + a_list[2][0])"
      ],
      "metadata": {
        "colab": {
          "base_uri": "https://localhost:8080/"
        },
        "id": "HWxVffoYcrBU",
        "outputId": "eb3b4580-f581-44a8-9dac-4f5ef9596c3a"
      },
      "execution_count": 24,
      "outputs": [
        {
          "output_type": "stream",
          "name": "stdout",
          "text": [
            "*한국 - 서울 + 파리\n",
            "1. 파리 2. 한국 3. 프랑스\n",
            "\n",
            "*컴퓨터 - 과학 + 인문학\n",
            "1. 컴퓨터 2. 하드웨어 3. 게임기\n",
            "\n",
            "*사랑 + 이별\n",
            "1. 사랑 2. 이별 3. 슬픔\n",
            "\n",
            "*충청북도 - 청주 + 강원도\n",
            "1. 강원도 2. 충청북도 3. 평창군\n",
            "\n",
            "*인간 - 사랑\n",
            "1. 인간 2. 내재적 3. 유기체\n",
            "\n",
            "*미술 - 물감 + 음악\n",
            "1. 음악 2. 미술 3. 예술\n"
          ]
        }
      ]
    },
    {
      "cell_type": "code",
      "source": [],
      "metadata": {
        "id": "urjwllztgec_"
      },
      "execution_count": null,
      "outputs": []
    },
    {
      "cell_type": "code",
      "source": [],
      "metadata": {
        "id": "RD0Ux00Zev5F"
      },
      "execution_count": null,
      "outputs": []
    },
    {
      "cell_type": "code",
      "source": [],
      "metadata": {
        "id": "E7BXb0xUcjBM"
      },
      "execution_count": null,
      "outputs": []
    },
    {
      "cell_type": "code",
      "source": [],
      "metadata": {
        "id": "cVg-dqpub8BJ"
      },
      "execution_count": null,
      "outputs": []
    },
    {
      "cell_type": "code",
      "source": [],
      "metadata": {
        "id": "1iHBGKJabvMZ"
      },
      "execution_count": null,
      "outputs": []
    },
    {
      "cell_type": "code",
      "source": [],
      "metadata": {
        "id": "mj7S8C3RZNIZ"
      },
      "execution_count": null,
      "outputs": []
    },
    {
      "cell_type": "code",
      "source": [],
      "metadata": {
        "id": "MQQkmQDdYX4z"
      },
      "execution_count": null,
      "outputs": []
    }
  ]
}