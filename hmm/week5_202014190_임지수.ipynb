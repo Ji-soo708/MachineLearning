{
  "nbformat": 4,
  "nbformat_minor": 0,
  "metadata": {
    "colab": {
      "provenance": [],
      "collapsed_sections": []
    },
    "kernelspec": {
      "name": "python3",
      "display_name": "Python 3"
    }
  },
  "cells": [
    {
      "cell_type": "markdown",
      "metadata": {
        "id": "YYKwldBwVXIW"
      },
      "source": [
        "<h2>개인 구글 드라이브와 colab 연동 </h2>"
      ]
    },
    {
      "cell_type": "code",
      "metadata": {
        "id": "5o0lh-JLURY7",
        "colab": {
          "base_uri": "https://localhost:8080/"
        },
        "outputId": "50a7a31d-ba55-4427-f6d6-a54ee4b67a18"
      },
      "source": [
        "from google.colab import drive\n",
        "drive.mount(\"/gdrive\", force_remount=True)"
      ],
      "execution_count": 1,
      "outputs": [
        {
          "output_type": "stream",
          "name": "stdout",
          "text": [
            "Mounted at /gdrive\n"
          ]
        }
      ]
    },
    {
      "cell_type": "markdown",
      "metadata": {
        "id": "junjuA4pVM5n"
      },
      "source": [
        "<h2>라이브러리 설치 </h2>"
      ]
    },
    {
      "cell_type": "code",
      "metadata": {
        "id": "WwzrDnJYmV3Z",
        "colab": {
          "base_uri": "https://localhost:8080/"
        },
        "outputId": "524bdbb0-753e-40fa-f2de-0f426b930caa"
      },
      "source": [
        "!pip install hmmlearn"
      ],
      "execution_count": 2,
      "outputs": [
        {
          "output_type": "stream",
          "name": "stdout",
          "text": [
            "Looking in indexes: https://pypi.org/simple, https://us-python.pkg.dev/colab-wheels/public/simple/\n",
            "Collecting hmmlearn\n",
            "  Downloading hmmlearn-0.2.8-cp37-cp37m-manylinux_2_5_x86_64.manylinux1_x86_64.whl (217 kB)\n",
            "\u001b[K     |████████████████████████████████| 217 kB 2.2 MB/s \n",
            "\u001b[?25hRequirement already satisfied: scipy>=0.19 in /usr/local/lib/python3.7/dist-packages (from hmmlearn) (1.7.3)\n",
            "Requirement already satisfied: numpy>=1.10 in /usr/local/lib/python3.7/dist-packages (from hmmlearn) (1.21.6)\n",
            "Requirement already satisfied: scikit-learn>=0.16 in /usr/local/lib/python3.7/dist-packages (from hmmlearn) (1.0.2)\n",
            "Requirement already satisfied: joblib>=0.11 in /usr/local/lib/python3.7/dist-packages (from scikit-learn>=0.16->hmmlearn) (1.1.0)\n",
            "Requirement already satisfied: threadpoolctl>=2.0.0 in /usr/local/lib/python3.7/dist-packages (from scikit-learn>=0.16->hmmlearn) (3.1.0)\n",
            "Installing collected packages: hmmlearn\n",
            "Successfully installed hmmlearn-0.2.8\n"
          ]
        }
      ]
    },
    {
      "cell_type": "code",
      "source": [
        "##과제\n",
        "\n",
        "import numpy as np\n",
        "from hmmlearn import hmm\n",
        "\n",
        "states = [\"Rainy\", \"Sunny\"]\n",
        "# state개수==2\n",
        "n_states = len(states)\n",
        "\n",
        "observations = [\"Walk\", \"Shop\", \"Clean\"]\n",
        "# observation개수==3\n",
        "n_observations = len(observations)\n",
        "\n",
        "# 시작 확률(pi)\n",
        "# 아무것도 없는 상태에서 각 state로 갈 확률\n",
        "start_probability = np.array([0.6, 0.4])\n",
        "\n",
        "# 전이 확률\n",
        "# matrix 형태로\n",
        "# 원래는 trans_prob. 구하면 trainingdata에서 개수 다 세고 rain개수/전체개수\n",
        "# smoothing효과해서 조정을 함\n",
        "# log씌워서 합으로 계산해서 계산을 빠르게 만듦 -> log likelihoodi(확률)\n",
        "transition_probability = np.array([\n",
        "  [0.7, 0.3], #R 다 더하면 1이여야 함(확률값이므로)\n",
        "  [0.6, 0.4] #S\n",
        "])\n",
        "\n",
        "# 관측 확률\n",
        "emission_probability = np.array([\n",
        "  [0.1, 0.4, 0.5], #R에서 W,S,C\n",
        "  [0.6, 0.3, 0.1], #C에서 W,S,C\n",
        "])\n",
        "\n",
        "# 모델 만들기\n",
        "model = hmm.CategoricalHMM(n_components=n_states)\n",
        "# 여기를 채우세요.\n",
        "model.startprob_ = start_probability\n",
        "model.transmat_ = transition_probability\n",
        "model.emissionprob_ = emission_probability\n",
        "\n",
        "# 관측 입력\n",
        "# W, W, C, S\n",
        "input = [0, 0, 2,1] #1x4 -> 4X1 로 바꿔야 함\n",
        "\n",
        "# HMM 모델 호출\n",
        "# 여기를 채우세요.\n",
        "# 2차원 벡터로 바꿔서 transpose(1D->2D)\n",
        "hmm_input = np.atleast_2d(input).T\n",
        "# decode하면 viterbi search해서 state 열이 나오고(log형태로 나옴) 가장 큰 확률 값 sequence 반환\n",
        "# log(a,b)=log(a)+log(b)\n",
        "logprob, sequence = model.decode(hmm_input) \n",
        "# list는 요소 값 바꿀 수 있고 튜플은 바로 접근 불가\n",
        "# \", \".join -> 뒤에 나오는 것들을 , 로 붙이겠다.\n",
        "# map은 리스트 하나하나 꺼내와 join\n",
        "# 이렇게 하기 싫으면 for루프\n",
        "\n",
        "print(\"Input :\", \", \".join(map(lambda x: observations[x], input)))\n",
        "# lambda x: observations[x] -> lambda function\n",
        "# input에서 하나씩 가져와서 x에 넣어줌, join해서 합쳐줌\n",
        "# 이런걸 sequence labeling 문제, path analysis 문제\n",
        "# classification 할 때 hmm이 적용된다\n",
        "# -값 나오는데 보기 싫으면 -값 곱해줌->확률이 낮아질수록 커짐 (negative likelihood) //나중에 볼 거임\n",
        "print(\"Output:\", \", \".join(map(lambda x: states[x], sequence)))\n",
        "print(\"Prob. :\", logprob)"
      ],
      "metadata": {
        "colab": {
          "base_uri": "https://localhost:8080/"
        },
        "id": "O320M-QeZja4",
        "outputId": "80ba2a5b-5f7f-434c-d006-9ba0377dce49"
      },
      "execution_count": 5,
      "outputs": [
        {
          "output_type": "stream",
          "name": "stdout",
          "text": [
            "Input : Walk, Walk, Clean, Shop\n",
            "Output: Sunny, Sunny, Rainy, Rainy\n",
            "Prob. : -5.331171191419115\n"
          ]
        }
      ]
    },
    {
      "cell_type": "code",
      "source": [],
      "metadata": {
        "id": "lpThCfWCafec"
      },
      "execution_count": null,
      "outputs": []
    },
    {
      "cell_type": "code",
      "metadata": {
        "id": "0VJD-PF6dYfb",
        "colab": {
          "base_uri": "https://localhost:8080/"
        },
        "outputId": "22b46714-fa58-4396-c939-5cfdfc4a8e88",
        "pycharm": {
          "name": "#%%\n"
        }
      },
      "source": [
        "## 예시\n",
        "import numpy as np\n",
        "from hmmlearn import hmm\n",
        "\n",
        "states = [\"Rainy\", \"Cloudy\", \"Sunny\"]\n",
        "# state개수==3\n",
        "n_states = len(states)\n",
        "\n",
        "observations = [\"Boots\", \"Shoes\"]\n",
        "# observation개수==2\n",
        "n_observations = len(observations)\n",
        "\n",
        "# 시작 확률(pi)\n",
        "# 아무것도 없는 상태에서 각 state로 갈 확률\n",
        "start_probability = np.array([0.2, 0.5, 0.3])\n",
        "\n",
        "# 전이 확률\n",
        "# matrix 형태로\n",
        "# 원래는 trans_prob. 구하면 trainingdata에서 개수 다 세고 rain개수/전체개수\n",
        "# smoothing효과해서 조정을 함\n",
        "# log씌워서 합으로 계산해서 계산을 빠르게 만듦 -> log likelihoodi(확률)\n",
        "transition_probability = np.array([\n",
        "  [0.4, 0.3, 0.3], #R 다 더하면 1이여야 함(확률값이므로)\n",
        "  [0.2, 0.6, 0.2], #C\n",
        "  [0.1, 0.1, 0.8] #S\n",
        "])\n",
        "\n",
        "# 관측 확률\n",
        "emission_probability = np.array([\n",
        "  [0.8, 0.2], #R에서 B,S\n",
        "  [0.5, 0.5], #C에서 B,S\n",
        "  [0.1, 0.9] #S에서 B,S\n",
        "])\n",
        "\n",
        "# 모델 만들기\n",
        "model = hmm.CategoricalHMM(n_components=n_states)\n",
        "# 여기를 채우세요.\n",
        "model.startprob_ = start_probability\n",
        "model.transmat_ = transition_probability\n",
        "model.emissionprob_ = emission_probability\n",
        "\n",
        "# 관측 입력\n",
        "# B, B, S, S\n",
        "input = [0, 0, 1,1] #1x4 -> 4X1 로 바꿔야 함\n",
        "\n",
        "# HMM 모델 호출\n",
        "# 여기를 채우세요.\n",
        "# 2차원 벡터로 바꿔서 transpose(1D->2D)\n",
        "hmm_input = np.atleast_2d(input).T\n",
        "# decode하면 viterbi search해서 state 열이 나오고(log형태로 나옴) 가장 큰 확률 값 sequence 반환\n",
        "# log(a,b)=log(a)+log(b)\n",
        "logprob, sequence = model.decode(hmm_input) \n",
        "# list는 요소 값 바꿀 수 있고 튜플은 바로 접근 불가\n",
        "# 0은 boots, 1은 shoes\n",
        "# \", \".join -> 뒤에 나오는 것들을 , 로 붙이겠다.\n",
        "# map은 리스트 하나하나 꺼내와 join\n",
        "# 이렇게 하기 싫으면 for루프\n",
        "\n",
        "print(\"Input :\", \", \".join(map(lambda x: observations[x], input)))\n",
        "# lambda x: observations[x] -> lambda function\n",
        "# input에서 하나씩 가져와서 x에 넣어줌, join해서 합쳐줌\n",
        "# 이런걸 sequence labeling 문제, path analysis 문제\n",
        "# classification 할 때 hmm이 적용된다\n",
        "# -값 나오는데 보기 싫으면 -값 곱해줌->확률이 낮아질수록 커짐 (negative likelihood) //나중에 볼\n",
        "print(\"Output:\", \", \".join(map(lambda x: states[x], sequence)))\n",
        "print(\"Prob. :\", logprob)"
      ],
      "execution_count": 6,
      "outputs": [
        {
          "output_type": "stream",
          "name": "stdout",
          "text": [
            "Input : Boots, Boots, Shoes, Shoes\n",
            "Output: Rainy, Rainy, Sunny, Sunny\n",
            "Prob. : -4.609853133892472\n"
          ]
        }
      ]
    },
    {
      "cell_type": "code",
      "source": [],
      "metadata": {
        "id": "B4hCjoPSaig0"
      },
      "execution_count": null,
      "outputs": []
    },
    {
      "cell_type": "code",
      "source": [],
      "metadata": {
        "id": "c2JT_n2JZla3"
      },
      "execution_count": null,
      "outputs": []
    },
    {
      "cell_type": "code",
      "source": [],
      "metadata": {
        "id": "4RjBNUG2Zoog"
      },
      "execution_count": null,
      "outputs": []
    },
    {
      "cell_type": "code",
      "source": [],
      "metadata": {
        "id": "corSUj7Xtfzz"
      },
      "execution_count": null,
      "outputs": []
    }
  ]
}