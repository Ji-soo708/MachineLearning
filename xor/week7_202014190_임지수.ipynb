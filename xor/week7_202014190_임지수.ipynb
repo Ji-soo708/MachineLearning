{
  "nbformat": 4,
  "nbformat_minor": 0,
  "metadata": {
    "colab": {
      "provenance": [],
      "collapsed_sections": []
    },
    "kernelspec": {
      "name": "python3",
      "display_name": "Python 3"
    },
    "accelerator": "GPU"
  },
  "cells": [
    {
      "cell_type": "code",
      "metadata": {
        "id": "FdZnDI8azinw",
        "colab": {
          "base_uri": "https://localhost:8080/"
        },
        "outputId": "0b4d2b0c-4b13-4483-fe78-dcf88994bc9a"
      },
      "source": [
        "from google.colab import drive\n",
        "drive.mount(\"/gdrive\", force_remount=True)"
      ],
      "execution_count": null,
      "outputs": [
        {
          "output_type": "stream",
          "name": "stdout",
          "text": [
            "Mounted at /gdrive\n"
          ]
        }
      ]
    },
    {
      "cell_type": "code",
      "metadata": {
        "id": "JBGiT1Qw_Qzo",
        "colab": {
          "base_uri": "https://localhost:8080/"
        },
        "outputId": "7587580a-7ba6-4158-b0e3-bd16493badf8"
      },
      "source": [
        "import numpy as np\n",
        "import torch\n",
        "import torch.nn as nn\n",
        "from sklearn.metrics import accuracy_score\n",
        "\n",
        "# 데이터 읽기 함수\n",
        "def load_dataset(file):\n",
        "  data = np.loadtxt(file)\n",
        "  print(\"DATA=\",data)\n",
        "  \n",
        "  input_features = data[:,0:-1] # 0부터 맨뒤 끊어진거 끊어와라->X\n",
        "  print(\"X=\",input_features) # 행 형태 1행4열\n",
        "  \n",
        "  labels = np.reshape(data[:,-1],(4,1)) # 4행1열로 바꿈\n",
        "  print(\"Y=\",labels)\n",
        " \n",
        "  input_features = torch.tensor(input_features, dtype=torch.float)\n",
        "  labels = torch.tensor(labels, dtype=torch.float)\n",
        "\n",
        "  return (input_features, labels)\n",
        "\n",
        "# 모델 평가 결과 계산을 위해 텐서를 리스트로 변환하는 함수\n",
        "def tensor2list(input_tensor):\n",
        "    return input_tensor.cpu().detach().numpy().tolist()\n",
        "\n",
        "x, y = load_dataset(\"/gdrive/My Drive/colab/ann/xor1/train.txt\") # 무조건 해야함\n",
        "\n",
        "# layer 1 가중치 초기화\n",
        "# 이곳을 완성하세요.\n",
        "w1 = torch.randn(2,2,requires_grad=True) # torch.randn : 정규분포 해라\n",
        "b1 = torch.randn(2,requires_grad=True)\n",
        "print(\"\\n[Init]\\nw1 = {0}\".format(tensor2list(w1))) # tensor2list -> tensor는 객체라 텐서형으로 나옴 그래서 리스트로 바꿔서 찍음\n",
        "print(\"b1 = {0}\".format(tensor2list(b1)))\n",
        "\n",
        "# layer 2 가중치 초기화\n",
        "# 이곳을 완성하세요.\n",
        "w2 = torch.randn(2,1,requires_grad=True) # torch.randn : 정규분포 해라\n",
        "b2 = torch.randn(1,requires_grad=True)\n",
        "\n",
        "# 날코딩으로 하면 H(x) 언더플로우 생김\n",
        "\n",
        "print(\"w2 = {0}\".format(tensor2list(w2)))\n",
        "print(\"b2 = {0}\\n\".format(tensor2list(b2)))\n",
        "\n",
        "# Activation 함수 설정\n",
        "sigmoid = nn.Sigmoid() # pytorch nn에 sigmoid 쓰겠다. 언더플로우 막으려고 조그만 수 더해줌\n",
        "\n",
        "# 이진분류 크로스엔트로피 비용 함수 설정 \n",
        "loss_func = torch.nn.BCELoss() # 바이너리 크로스엔트로피 \n",
        "\n",
        "# 옵티마이저 함수 (역전파 알고리즘을 수행할 함수)\n",
        "optimizer = torch.optim.SGD([w1,b1,w2,b2],lr=0.2) # SGD 경사하강법??, 업데이트할것들을 리스트 형태로 넣어줌, learningrate=0.2\n",
        "\n",
        "# 모델 학습\n",
        "for epoch in range(1001):\n",
        "\n",
        "    # H(X) 계산: forward 연산\n",
        "    # 이곳을 완성하세요.\n",
        "    #matmul->matrixmultiply\n",
        "    L2=sigmoid(torch.add(torch.matmul(x,w1),b1)) # x*w1+b1하고 sigmoid 여기서 아웃풋값 꺼냄\n",
        "    hx=sigmoid(torch.add(torch.matmul(L2,w2),b2)) # L2*w2+b2 하고 sigmoid\n",
        "    # 비용 계산\n",
        "    cost = loss_func(hx, y) # bce 아까 정의\n",
        "\n",
        "    #### backpropagation -> gradient update ####\n",
        "    # 두줄의 코드가 backpropagation\n",
        "    # 역전파 수행\n",
        "    cost.backward() # backward 방향으로 가중치 업데이트\n",
        "    # cost를 역방향으로 보냄\n",
        "    optimizer.step() # 옵티마이저 실행\n",
        "\n",
        "    # 100 에폭마다 비용 출력\n",
        "    if epoch % 100 == 0:\n",
        "        print(epoch, cost.item())\n",
        "\n",
        "print(\"\\n[Learned]\\nw1 = {0}\".format(tensor2list(w1)))\n",
        "print(\"b1 = {0}\".format(tensor2list(b1)))\n",
        "print(\"w2 = {0}\".format(tensor2list(w2)))\n",
        "print(\"b2 = {0}\\n\".format(tensor2list(b2)))\n",
        "\n",
        "# 모델 평가\n",
        "# H(X) 계산: forward 연산\n",
        "# 이곳을 완성사에요.\n",
        "# H(x)이 0.5보다 크면 true\n",
        "# sigmoid 했으므로 0~1 사이 값 나옴\n",
        "\n",
        "L2=sigmoid(torch.add(torch.matmul(x,w1),b1)) # x*w1+b1하고 sigmoid 여기서 아웃풋값 꺼냄\n",
        "hx=sigmoid(torch.add(torch.matmul(L2,w2),b2)) # L2*w2+b2 하고 sigmoid\n",
        "\n",
        "logits = (hx > 0.5).float() # logits란??\n",
        "predicts = tensor2list(logits)\n",
        "golds = tensor2list(y)\n",
        "\n",
        "print(\"\\nPRED=\",predicts)\n",
        "print(\"GOLD=\",golds)\n",
        "print(\"Accuracy : {0:f}\".format(accuracy_score(golds, predicts)))\n",
        "\n"
      ],
      "execution_count": null,
      "outputs": [
        {
          "output_type": "stream",
          "name": "stdout",
          "text": [
            "DATA= [[0. 0. 0.]\n",
            " [0. 1. 1.]\n",
            " [1. 0. 1.]\n",
            " [1. 1. 0.]]\n",
            "X= [[0. 0.]\n",
            " [0. 1.]\n",
            " [1. 0.]\n",
            " [1. 1.]]\n",
            "Y= [[0.]\n",
            " [1.]\n",
            " [1.]\n",
            " [0.]]\n",
            "\n",
            "[Init]\n",
            "w1 = [[-1.1862314939498901, 0.3101063072681427], [-0.8083272576332092, 0.014147043228149414]]\n",
            "b1 = [0.2902979254722595, 0.6158347129821777]\n",
            "w2 = [[-1.180893063545227], [0.08467705547809601]]\n",
            "b2 = [-0.1970536708831787]\n",
            "\n",
            "0 0.7249121069908142\n",
            "100 0.4316980540752411\n",
            "200 6.347926046146313e-06\n",
            "300 0.0\n",
            "400 0.0\n",
            "500 0.0\n",
            "600 0.0\n",
            "700 0.0\n",
            "800 0.0\n",
            "900 0.0\n",
            "1000 0.0\n",
            "\n",
            "[Learned]\n",
            "w1 = [[-158.5913543701172, -104.3956527709961], [-150.0393524169922, -107.41055297851562]]\n",
            "b1 = [43.17057418823242, 203.42250061035156]\n",
            "w2 = [[-171.21363830566406], [274.86651611328125]]\n",
            "b2 = [-167.51661682128906]\n",
            "\n",
            "\n",
            "PRED= [[0.0], [1.0], [1.0], [0.0]]\n",
            "GOLD= [[0.0], [1.0], [1.0], [0.0]]\n",
            "Accuracy : 1.000000\n"
          ]
        }
      ]
    },
    {
      "cell_type": "code",
      "source": [],
      "metadata": {
        "id": "UNpDl-u_yIoy"
      },
      "execution_count": null,
      "outputs": []
    },
    {
      "cell_type": "code",
      "source": [],
      "metadata": {
        "id": "vUPjrVmJxwL5"
      },
      "execution_count": null,
      "outputs": []
    }
  ]
}