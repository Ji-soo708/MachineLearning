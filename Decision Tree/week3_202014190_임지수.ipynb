{
  "nbformat": 4,
  "nbformat_minor": 0,
  "metadata": {
    "colab": {
      "provenance": [],
      "collapsed_sections": []
    },
    "kernelspec": {
      "name": "python3",
      "display_name": "Python 3"
    },
    "language_info": {
      "name": "python"
    }
  },
  "cells": [
    {
      "cell_type": "code",
      "metadata": {
        "id": "Sqk7wGdTOHPD",
        "colab": {
          "base_uri": "https://localhost:8080/"
        },
        "outputId": "94f78c61-98e0-4f15-fec3-6157173ab512"
      },
      "source": [
        "from google.colab import drive\n",
        "drive.mount(\"/gdrive\", force_remount=True)"
      ],
      "execution_count": 16,
      "outputs": [
        {
          "output_type": "stream",
          "name": "stdout",
          "text": [
            "Mounted at /gdrive\n"
          ]
        }
      ]
    },
    {
      "cell_type": "code",
      "metadata": {
        "id": "YG51p4shPlaG",
        "colab": {
          "base_uri": "https://localhost:8080/"
        },
        "outputId": "2e4825cc-385c-4a88-a440-8d6e3505b3fa"
      },
      "source": [
        "import pandas as pd #데이터 프레임(테이블)을 쉽게 다룰 수 있게 하는 라이브러리\n",
        "from sklearn.preprocessing import LabelEncoder #데이터 전처리\n",
        "from sklearn import tree\n",
        "import graphviz #graphtical하게 보여줌\n",
        "\n",
        "# 데이터 경로\n",
        "file_path = \"/gdrive/MyDrive/colab/dt/PlayTennis.csv\"\n",
        "# 데이터 경로로부터 파일을 읽음 (pandas 라이브러리 사용)\n",
        "datas = pd.read_csv(file_path) #읽어올 파일 이름\n",
        "\n",
        "# 데이터 출력 (데이터 형태 확인)\n",
        "print(datas)"
      ],
      "execution_count": 17,
      "outputs": [
        {
          "output_type": "stream",
          "name": "stdout",
          "text": [
            "     outlook  temp humidity  windy  day      time play\n",
            "0      sunny   hot     high  False  Sun  09-22-10   no\n",
            "1      sunny   hot     high   True  Sun  16-00-05   no\n",
            "2   overcast   hot     high  False  Tue  12-25-54  yes\n",
            "3      rainy  mild     high  False  Wed  07-17-02  yes\n",
            "4      rainy  cool   normal  False  Thu  08-22-56  yes\n",
            "5      rainy  cool   normal   True  Thu  14-25-25   no\n",
            "6   overcast  cool   normal   True  Mon  20-00-17  yes\n",
            "7      sunny  mild     high  False  Fri  19-25-11   no\n",
            "8      sunny  cool   normal  False  Sat  08-22-22  yes\n",
            "9      rainy  mild   normal  False  Fri  11-24-55  yes\n",
            "10     sunny  mild   normal   True  Sat  17-55-24  yes\n",
            "11  overcast  mild     high   True  Tue  06-25-58  yes\n",
            "12  overcast   hot   normal  False  Tue  16-44-45  yes\n",
            "13     rainy  mild     high   True  Fri  23-29-28   no\n"
          ]
        }
      ]
    },
    {
      "cell_type": "code",
      "metadata": {
        "colab": {
          "base_uri": "https://localhost:8080/"
        },
        "id": "9xu43hd3YBEE",
        "outputId": "42a6ed60-9ddb-4563-9cca-bc670b623d97"
      },
      "source": [
        "# 데이터 변환 (문자열->숫자)\n",
        "# 대부분의 decision tree 라이브러리들이 숫자를 입력으로 받음\n",
        "# 범주형 데이터를 수치형 데이터로 자동 변환해주는 라이브러리\n",
        "label_encoder = LabelEncoder()\n",
        "\n",
        "# 정답 클래스 이름 (yes, no)\n",
        "target_names = label_encoder.fit(datas['play']).classes_ #밑에 거 거꾸로, 숫자로 부여한걸 문자열로\n",
        "print(\"target_names : {}\".format(target_names))\n",
        "\n",
        "#fit_transform: 문자열들 다 가져오고 unique하게 몇개정도 있는지 파악하고 0,1,2로 바꿈(ex. sunny, rainy, cloudy)\n",
        "datas['outlook'] = label_encoder.fit_transform(datas['outlook']) #outlook 한 줄을 쭉 가져옴 \n",
        "datas['temp'] = label_encoder.fit_transform(datas['temp'])\n",
        "datas['humidity'] = label_encoder.fit_transform(datas['humidity'])\n",
        "datas['windy'] = label_encoder.fit_transform(datas['windy'])\n",
        "#datas['day'] = label_encoder.fit_transform(datas['day'])\n",
        "#datas['time'] = label_encoder.fit_transform(datas['time'])\n",
        "datas['play'] = label_encoder.fit_transform(datas['play'])\n",
        "\n",
        "#일주일중 휴일인 토요일, 일요일과 주말 전날인 금요일을 dayoff로 지정하고 그 외의 요일들은 평일로 지정\n",
        "datas.loc[datas.day == 'Fri', 'day'] = 'dayoff'\n",
        "datas.loc[datas.day == 'Sat', 'day'] = 'dayoff'\n",
        "datas.loc[datas.day == 'Sun', 'day'] = 'dayoff'\n",
        "datas.loc[datas.day != 'dayoff', 'day'] = 'weekday'\n",
        "\n",
        "datas['day'] = label_encoder.fit_transform(datas['day'])\n",
        "# 데이터 출력 (데이터 포맷 변환 후 결과 확인)\n",
        "print(datas)"
      ],
      "execution_count": 18,
      "outputs": [
        {
          "output_type": "stream",
          "name": "stdout",
          "text": [
            "target_names : ['no' 'yes']\n",
            "    outlook  temp  humidity  windy  day      time  play\n",
            "0         2     1         0      0    0  09-22-10     0\n",
            "1         2     1         0      1    0  16-00-05     0\n",
            "2         0     1         0      0    1  12-25-54     1\n",
            "3         1     2         0      0    1  07-17-02     1\n",
            "4         1     0         1      0    1  08-22-56     1\n",
            "5         1     0         1      1    1  14-25-25     0\n",
            "6         0     0         1      1    1  20-00-17     1\n",
            "7         2     2         0      0    0  19-25-11     0\n",
            "8         2     0         1      0    0  08-22-22     1\n",
            "9         1     2         1      0    0  11-24-55     1\n",
            "10        2     2         1      1    0  17-55-24     1\n",
            "11        0     2         0      1    1  06-25-58     1\n",
            "12        0     1         1      0    1  16-44-45     1\n",
            "13        1     2         0      1    0  23-29-28     0\n"
          ]
        }
      ]
    },
    {
      "cell_type": "code",
      "source": [],
      "metadata": {
        "id": "k7DA_KCL1Csq"
      },
      "execution_count": null,
      "outputs": []
    },
    {
      "cell_type": "code",
      "source": [
        "df_split = datas.time.str.split('-')\n",
        "df_list= pd.DataFrame(df_split.tolist(),columns=[\"h\",\"m\",\"s\"])\n",
        "df_list = df_list.apply(pd.to_numeric)\n",
        "\n",
        "# df_list['result']=\"blank\"\n",
        "\n",
        "# df_list.loc[(5<df_list['h'])&(df_list['h']<11),'result']=\"morning\"\n",
        "# df_list.loc[(11<df_list['h'])&(df_list['h']<17),'result']=\"lunch\"\n",
        "# df_list.loc[(17<df_list['h'])&(df_list['h']<23),'result']=\"dinner\"\n",
        "# df_list.loc[(df_list['h']!=\"morning\")|(df_list['h']!=\"lunch\")|(df_list['h']!=\"dinner\"),'result']=\"dawn\"\n",
        "\n",
        "#시간대별로 아침, 점심, 저녁, 새벽으로 나누기\n",
        "#데이터셋에는 새벽시간대가 없어 아침, 점심, 저녁으로만 나누어졌다\n",
        "df_list['result'] = \"blank\"\n",
        "df_list.loc[(5<=df_list['h'])&(df_list['h']<=11), 'result'] = 'morning'\n",
        "df_list.loc[(12<=df_list['h'])&(df_list['h']<=17), 'result'] = 'lunch'\n",
        "df_list.loc[(18<=df_list['h'])&(df_list['h']<=23), 'result'] = 'dinner'\n",
        "df_list.loc[(df_list['result']!=\"morning\")&(df_list['result']!=\"lunch\")&(df_list['result']!=\"dinner\"),'result']='dawn'\n",
        "\n",
        "datas['time']= df_list['result']\n",
        "datas['time'] = label_encoder.fit_transform(datas['time'])\n",
        "\n",
        "\n",
        "print(datas)\n"
      ],
      "metadata": {
        "colab": {
          "base_uri": "https://localhost:8080/"
        },
        "id": "LFmBS0H0fsao",
        "outputId": "97290635-6955-4e85-fe1f-2502300b3ae6"
      },
      "execution_count": 19,
      "outputs": [
        {
          "output_type": "stream",
          "name": "stdout",
          "text": [
            "    outlook  temp  humidity  windy  day  time  play\n",
            "0         2     1         0      0    0     2     0\n",
            "1         2     1         0      1    0     1     0\n",
            "2         0     1         0      0    1     1     1\n",
            "3         1     2         0      0    1     2     1\n",
            "4         1     0         1      0    1     2     1\n",
            "5         1     0         1      1    1     1     0\n",
            "6         0     0         1      1    1     0     1\n",
            "7         2     2         0      0    0     0     0\n",
            "8         2     0         1      0    0     2     1\n",
            "9         1     2         1      0    0     2     1\n",
            "10        2     2         1      1    0     1     1\n",
            "11        0     2         0      1    1     2     1\n",
            "12        0     1         1      0    1     1     1\n",
            "13        1     2         0      1    0     0     0\n"
          ]
        }
      ]
    },
    {
      "cell_type": "code",
      "source": [
        "# 입력 데이터와 정답 데이터로 분리\n",
        "x_data, y_data = datas.drop(['play'], axis=1), datas['play']\n",
        "\n",
        "# 분리 결과 확인\n",
        "print(x_data)\n",
        "print()\n",
        "print(y_data)"
      ],
      "metadata": {
        "id": "h_uvpHVfjNlJ",
        "colab": {
          "base_uri": "https://localhost:8080/"
        },
        "outputId": "5d441e0d-fbb7-48bd-f148-bf308393903b"
      },
      "execution_count": 20,
      "outputs": [
        {
          "output_type": "stream",
          "name": "stdout",
          "text": [
            "    outlook  temp  humidity  windy  day  time\n",
            "0         2     1         0      0    0     2\n",
            "1         2     1         0      1    0     1\n",
            "2         0     1         0      0    1     1\n",
            "3         1     2         0      0    1     2\n",
            "4         1     0         1      0    1     2\n",
            "5         1     0         1      1    1     1\n",
            "6         0     0         1      1    1     0\n",
            "7         2     2         0      0    0     0\n",
            "8         2     0         1      0    0     2\n",
            "9         1     2         1      0    0     2\n",
            "10        2     2         1      1    0     1\n",
            "11        0     2         0      1    1     2\n",
            "12        0     1         1      0    1     1\n",
            "13        1     2         0      1    0     0\n",
            "\n",
            "0     0\n",
            "1     0\n",
            "2     1\n",
            "3     1\n",
            "4     1\n",
            "5     0\n",
            "6     1\n",
            "7     0\n",
            "8     1\n",
            "9     1\n",
            "10    1\n",
            "11    1\n",
            "12    1\n",
            "13    0\n",
            "Name: play, dtype: int64\n"
          ]
        }
      ]
    },
    {
      "cell_type": "code",
      "metadata": {
        "id": "K6hFTzgbYEtU"
      },
      "source": [
        "# Decision tree 모델 학습 ()\n",
        "decision_tree = tree.DecisionTreeClassifier(criterion = 'entropy') #entropy 기준으로 트리를 구성해라\n",
        "train_result = decision_tree.fit(x_data, y_data) #fit을 통해 x데이터, y데이터 넣어줌"
      ],
      "execution_count": 21,
      "outputs": []
    },
    {
      "cell_type": "code",
      "source": [],
      "metadata": {
        "id": "oSIKx17P1HRR"
      },
      "execution_count": null,
      "outputs": []
    },
    {
      "cell_type": "code",
      "source": [],
      "metadata": {
        "id": "-p9N9W4dzRgj"
      },
      "execution_count": null,
      "outputs": []
    },
    {
      "cell_type": "code",
      "metadata": {
        "colab": {
          "base_uri": "https://localhost:8080/",
          "height": 756
        },
        "id": "RrLrZwJWYKnb",
        "outputId": "cdd07efb-521a-4628-f791-a528c3891ff9"
      },
      "source": [
        "# 학습 결과 확인 (graphviz 라이브러리 사용)\n",
        "#tree형태로 학습한 결과를 가지고 보여줘라\n",
        "#feature(네모 안)에는 x_data 열을 넣어라\n",
        "graph = graphviz.Source(tree.export_graphviz(train_result, out_file=None,\n",
        "                                             feature_names=x_data.columns,\n",
        "                                             class_names=target_names)) \n",
        "graph"
      ],
      "execution_count": 22,
      "outputs": [
        {
          "output_type": "execute_result",
          "data": {
            "text/plain": [
              "<graphviz.files.Source at 0x7f1f8e900310>"
            ],
            "image/svg+xml": "<?xml version=\"1.0\" encoding=\"UTF-8\" standalone=\"no\"?>\n<!DOCTYPE svg PUBLIC \"-//W3C//DTD SVG 1.1//EN\"\n \"http://www.w3.org/Graphics/SVG/1.1/DTD/svg11.dtd\">\n<!-- Generated by graphviz version 2.40.1 (20161225.0304)\n -->\n<!-- Title: Tree Pages: 1 -->\n<svg width=\"534pt\" height=\"552pt\"\n viewBox=\"0.00 0.00 534.00 552.00\" xmlns=\"http://www.w3.org/2000/svg\" xmlns:xlink=\"http://www.w3.org/1999/xlink\">\n<g id=\"graph0\" class=\"graph\" transform=\"scale(1 1) rotate(0) translate(4 548)\">\n<title>Tree</title>\n<polygon fill=\"#ffffff\" stroke=\"transparent\" points=\"-4,4 -4,-548 530,-548 530,4 -4,4\"/>\n<!-- 0 -->\n<g id=\"node1\" class=\"node\">\n<title>0</title>\n<polygon fill=\"none\" stroke=\"#000000\" points=\"226.5,-544 116.5,-544 116.5,-461 226.5,-461 226.5,-544\"/>\n<text text-anchor=\"middle\" x=\"171.5\" y=\"-528.8\" font-family=\"Helvetica,sans-Serif\" font-size=\"14.00\" fill=\"#000000\">outlook &lt;= 0.5</text>\n<text text-anchor=\"middle\" x=\"171.5\" y=\"-513.8\" font-family=\"Helvetica,sans-Serif\" font-size=\"14.00\" fill=\"#000000\">entropy = 0.94</text>\n<text text-anchor=\"middle\" x=\"171.5\" y=\"-498.8\" font-family=\"Helvetica,sans-Serif\" font-size=\"14.00\" fill=\"#000000\">samples = 14</text>\n<text text-anchor=\"middle\" x=\"171.5\" y=\"-483.8\" font-family=\"Helvetica,sans-Serif\" font-size=\"14.00\" fill=\"#000000\">value = [5, 9]</text>\n<text text-anchor=\"middle\" x=\"171.5\" y=\"-468.8\" font-family=\"Helvetica,sans-Serif\" font-size=\"14.00\" fill=\"#000000\">class = yes</text>\n</g>\n<!-- 1 -->\n<g id=\"node2\" class=\"node\">\n<title>1</title>\n<polygon fill=\"none\" stroke=\"#000000\" points=\"162,-417.5 61,-417.5 61,-349.5 162,-349.5 162,-417.5\"/>\n<text text-anchor=\"middle\" x=\"111.5\" y=\"-402.3\" font-family=\"Helvetica,sans-Serif\" font-size=\"14.00\" fill=\"#000000\">entropy = 0.0</text>\n<text text-anchor=\"middle\" x=\"111.5\" y=\"-387.3\" font-family=\"Helvetica,sans-Serif\" font-size=\"14.00\" fill=\"#000000\">samples = 4</text>\n<text text-anchor=\"middle\" x=\"111.5\" y=\"-372.3\" font-family=\"Helvetica,sans-Serif\" font-size=\"14.00\" fill=\"#000000\">value = [0, 4]</text>\n<text text-anchor=\"middle\" x=\"111.5\" y=\"-357.3\" font-family=\"Helvetica,sans-Serif\" font-size=\"14.00\" fill=\"#000000\">class = yes</text>\n</g>\n<!-- 0&#45;&gt;1 -->\n<g id=\"edge1\" class=\"edge\">\n<title>0&#45;&gt;1</title>\n<path fill=\"none\" stroke=\"#000000\" d=\"M150.5149,-460.8796C144.9707,-449.8835 138.9736,-437.9893 133.3831,-426.9015\"/>\n<polygon fill=\"#000000\" stroke=\"#000000\" points=\"136.4291,-425.1684 128.8016,-417.8149 130.1786,-428.3199 136.4291,-425.1684\"/>\n<text text-anchor=\"middle\" x=\"120.9756\" y=\"-437.8584\" font-family=\"Helvetica,sans-Serif\" font-size=\"14.00\" fill=\"#000000\">True</text>\n</g>\n<!-- 2 -->\n<g id=\"node3\" class=\"node\">\n<title>2</title>\n<polygon fill=\"none\" stroke=\"#000000\" points=\"284.5,-425 180.5,-425 180.5,-342 284.5,-342 284.5,-425\"/>\n<text text-anchor=\"middle\" x=\"232.5\" y=\"-409.8\" font-family=\"Helvetica,sans-Serif\" font-size=\"14.00\" fill=\"#000000\">time &lt;= 1.5</text>\n<text text-anchor=\"middle\" x=\"232.5\" y=\"-394.8\" font-family=\"Helvetica,sans-Serif\" font-size=\"14.00\" fill=\"#000000\">entropy = 1.0</text>\n<text text-anchor=\"middle\" x=\"232.5\" y=\"-379.8\" font-family=\"Helvetica,sans-Serif\" font-size=\"14.00\" fill=\"#000000\">samples = 10</text>\n<text text-anchor=\"middle\" x=\"232.5\" y=\"-364.8\" font-family=\"Helvetica,sans-Serif\" font-size=\"14.00\" fill=\"#000000\">value = [5, 5]</text>\n<text text-anchor=\"middle\" x=\"232.5\" y=\"-349.8\" font-family=\"Helvetica,sans-Serif\" font-size=\"14.00\" fill=\"#000000\">class = no</text>\n</g>\n<!-- 0&#45;&gt;2 -->\n<g id=\"edge2\" class=\"edge\">\n<title>0&#45;&gt;2</title>\n<path fill=\"none\" stroke=\"#000000\" d=\"M192.8348,-460.8796C197.2207,-452.3236 201.8853,-443.2238 206.417,-434.3833\"/>\n<polygon fill=\"#000000\" stroke=\"#000000\" points=\"209.627,-435.7936 211.0741,-425.2981 203.3978,-432.6004 209.627,-435.7936\"/>\n<text text-anchor=\"middle\" x=\"218.7414\" y=\"-445.3933\" font-family=\"Helvetica,sans-Serif\" font-size=\"14.00\" fill=\"#000000\">False</text>\n</g>\n<!-- 3 -->\n<g id=\"node4\" class=\"node\">\n<title>3</title>\n<polygon fill=\"none\" stroke=\"#000000\" points=\"223.5,-306 105.5,-306 105.5,-223 223.5,-223 223.5,-306\"/>\n<text text-anchor=\"middle\" x=\"164.5\" y=\"-290.8\" font-family=\"Helvetica,sans-Serif\" font-size=\"14.00\" fill=\"#000000\">humidity &lt;= 0.5</text>\n<text text-anchor=\"middle\" x=\"164.5\" y=\"-275.8\" font-family=\"Helvetica,sans-Serif\" font-size=\"14.00\" fill=\"#000000\">entropy = 0.722</text>\n<text text-anchor=\"middle\" x=\"164.5\" y=\"-260.8\" font-family=\"Helvetica,sans-Serif\" font-size=\"14.00\" fill=\"#000000\">samples = 5</text>\n<text text-anchor=\"middle\" x=\"164.5\" y=\"-245.8\" font-family=\"Helvetica,sans-Serif\" font-size=\"14.00\" fill=\"#000000\">value = [4, 1]</text>\n<text text-anchor=\"middle\" x=\"164.5\" y=\"-230.8\" font-family=\"Helvetica,sans-Serif\" font-size=\"14.00\" fill=\"#000000\">class = no</text>\n</g>\n<!-- 2&#45;&gt;3 -->\n<g id=\"edge3\" class=\"edge\">\n<title>2&#45;&gt;3</title>\n<path fill=\"none\" stroke=\"#000000\" d=\"M208.7169,-341.8796C203.7763,-333.2335 198.5184,-324.0322 193.4167,-315.1042\"/>\n<polygon fill=\"#000000\" stroke=\"#000000\" points=\"196.3849,-313.244 188.3846,-306.2981 190.3072,-316.717 196.3849,-313.244\"/>\n</g>\n<!-- 8 -->\n<g id=\"node9\" class=\"node\">\n<title>8</title>\n<polygon fill=\"none\" stroke=\"#000000\" points=\"359.5,-306 241.5,-306 241.5,-223 359.5,-223 359.5,-306\"/>\n<text text-anchor=\"middle\" x=\"300.5\" y=\"-290.8\" font-family=\"Helvetica,sans-Serif\" font-size=\"14.00\" fill=\"#000000\">outlook &lt;= 1.5</text>\n<text text-anchor=\"middle\" x=\"300.5\" y=\"-275.8\" font-family=\"Helvetica,sans-Serif\" font-size=\"14.00\" fill=\"#000000\">entropy = 0.722</text>\n<text text-anchor=\"middle\" x=\"300.5\" y=\"-260.8\" font-family=\"Helvetica,sans-Serif\" font-size=\"14.00\" fill=\"#000000\">samples = 5</text>\n<text text-anchor=\"middle\" x=\"300.5\" y=\"-245.8\" font-family=\"Helvetica,sans-Serif\" font-size=\"14.00\" fill=\"#000000\">value = [1, 4]</text>\n<text text-anchor=\"middle\" x=\"300.5\" y=\"-230.8\" font-family=\"Helvetica,sans-Serif\" font-size=\"14.00\" fill=\"#000000\">class = yes</text>\n</g>\n<!-- 2&#45;&gt;8 -->\n<g id=\"edge8\" class=\"edge\">\n<title>2&#45;&gt;8</title>\n<path fill=\"none\" stroke=\"#000000\" d=\"M256.2831,-341.8796C261.2237,-333.2335 266.4816,-324.0322 271.5833,-315.1042\"/>\n<polygon fill=\"#000000\" stroke=\"#000000\" points=\"274.6928,-316.717 276.6154,-306.2981 268.6151,-313.244 274.6928,-316.717\"/>\n</g>\n<!-- 4 -->\n<g id=\"node5\" class=\"node\">\n<title>4</title>\n<polygon fill=\"none\" stroke=\"#000000\" points=\"101,-179.5 0,-179.5 0,-111.5 101,-111.5 101,-179.5\"/>\n<text text-anchor=\"middle\" x=\"50.5\" y=\"-164.3\" font-family=\"Helvetica,sans-Serif\" font-size=\"14.00\" fill=\"#000000\">entropy = 0.0</text>\n<text text-anchor=\"middle\" x=\"50.5\" y=\"-149.3\" font-family=\"Helvetica,sans-Serif\" font-size=\"14.00\" fill=\"#000000\">samples = 3</text>\n<text text-anchor=\"middle\" x=\"50.5\" y=\"-134.3\" font-family=\"Helvetica,sans-Serif\" font-size=\"14.00\" fill=\"#000000\">value = [3, 0]</text>\n<text text-anchor=\"middle\" x=\"50.5\" y=\"-119.3\" font-family=\"Helvetica,sans-Serif\" font-size=\"14.00\" fill=\"#000000\">class = no</text>\n</g>\n<!-- 3&#45;&gt;4 -->\n<g id=\"edge4\" class=\"edge\">\n<title>3&#45;&gt;4</title>\n<path fill=\"none\" stroke=\"#000000\" d=\"M124.6283,-222.8796C113.5676,-211.3337 101.5582,-198.7976 90.4906,-187.2446\"/>\n<polygon fill=\"#000000\" stroke=\"#000000\" points=\"92.8183,-184.6149 83.3731,-179.8149 87.7635,-189.4573 92.8183,-184.6149\"/>\n</g>\n<!-- 5 -->\n<g id=\"node6\" class=\"node\">\n<title>5</title>\n<polygon fill=\"none\" stroke=\"#000000\" points=\"220,-187 119,-187 119,-104 220,-104 220,-187\"/>\n<text text-anchor=\"middle\" x=\"169.5\" y=\"-171.8\" font-family=\"Helvetica,sans-Serif\" font-size=\"14.00\" fill=\"#000000\">day &lt;= 0.5</text>\n<text text-anchor=\"middle\" x=\"169.5\" y=\"-156.8\" font-family=\"Helvetica,sans-Serif\" font-size=\"14.00\" fill=\"#000000\">entropy = 1.0</text>\n<text text-anchor=\"middle\" x=\"169.5\" y=\"-141.8\" font-family=\"Helvetica,sans-Serif\" font-size=\"14.00\" fill=\"#000000\">samples = 2</text>\n<text text-anchor=\"middle\" x=\"169.5\" y=\"-126.8\" font-family=\"Helvetica,sans-Serif\" font-size=\"14.00\" fill=\"#000000\">value = [1, 1]</text>\n<text text-anchor=\"middle\" x=\"169.5\" y=\"-111.8\" font-family=\"Helvetica,sans-Serif\" font-size=\"14.00\" fill=\"#000000\">class = no</text>\n</g>\n<!-- 3&#45;&gt;5 -->\n<g id=\"edge5\" class=\"edge\">\n<title>3&#45;&gt;5</title>\n<path fill=\"none\" stroke=\"#000000\" d=\"M166.2488,-222.8796C166.5931,-214.6838 166.9584,-205.9891 167.3151,-197.5013\"/>\n<polygon fill=\"#000000\" stroke=\"#000000\" points=\"170.8208,-197.4362 167.7438,-187.2981 163.827,-197.1423 170.8208,-197.4362\"/>\n</g>\n<!-- 6 -->\n<g id=\"node7\" class=\"node\">\n<title>6</title>\n<polygon fill=\"none\" stroke=\"#000000\" points=\"166,-68 65,-68 65,0 166,0 166,-68\"/>\n<text text-anchor=\"middle\" x=\"115.5\" y=\"-52.8\" font-family=\"Helvetica,sans-Serif\" font-size=\"14.00\" fill=\"#000000\">entropy = 0.0</text>\n<text text-anchor=\"middle\" x=\"115.5\" y=\"-37.8\" font-family=\"Helvetica,sans-Serif\" font-size=\"14.00\" fill=\"#000000\">samples = 1</text>\n<text text-anchor=\"middle\" x=\"115.5\" y=\"-22.8\" font-family=\"Helvetica,sans-Serif\" font-size=\"14.00\" fill=\"#000000\">value = [0, 1]</text>\n<text text-anchor=\"middle\" x=\"115.5\" y=\"-7.8\" font-family=\"Helvetica,sans-Serif\" font-size=\"14.00\" fill=\"#000000\">class = yes</text>\n</g>\n<!-- 5&#45;&gt;6 -->\n<g id=\"edge6\" class=\"edge\">\n<title>5&#45;&gt;6</title>\n<path fill=\"none\" stroke=\"#000000\" d=\"M149.3924,-103.9815C145.2084,-95.3423 140.7877,-86.2144 136.5701,-77.5059\"/>\n<polygon fill=\"#000000\" stroke=\"#000000\" points=\"139.6029,-75.7382 132.0941,-68.2637 133.3029,-78.7893 139.6029,-75.7382\"/>\n</g>\n<!-- 7 -->\n<g id=\"node8\" class=\"node\">\n<title>7</title>\n<polygon fill=\"none\" stroke=\"#000000\" points=\"285,-68 184,-68 184,0 285,0 285,-68\"/>\n<text text-anchor=\"middle\" x=\"234.5\" y=\"-52.8\" font-family=\"Helvetica,sans-Serif\" font-size=\"14.00\" fill=\"#000000\">entropy = 0.0</text>\n<text text-anchor=\"middle\" x=\"234.5\" y=\"-37.8\" font-family=\"Helvetica,sans-Serif\" font-size=\"14.00\" fill=\"#000000\">samples = 1</text>\n<text text-anchor=\"middle\" x=\"234.5\" y=\"-22.8\" font-family=\"Helvetica,sans-Serif\" font-size=\"14.00\" fill=\"#000000\">value = [1, 0]</text>\n<text text-anchor=\"middle\" x=\"234.5\" y=\"-7.8\" font-family=\"Helvetica,sans-Serif\" font-size=\"14.00\" fill=\"#000000\">class = no</text>\n</g>\n<!-- 5&#45;&gt;7 -->\n<g id=\"edge7\" class=\"edge\">\n<title>5&#45;&gt;7</title>\n<path fill=\"none\" stroke=\"#000000\" d=\"M193.7036,-103.9815C198.8471,-95.1585 204.2877,-85.8258 209.4616,-76.9506\"/>\n<polygon fill=\"#000000\" stroke=\"#000000\" points=\"212.513,-78.6656 214.5257,-68.2637 206.4656,-75.1402 212.513,-78.6656\"/>\n</g>\n<!-- 9 -->\n<g id=\"node10\" class=\"node\">\n<title>9</title>\n<polygon fill=\"none\" stroke=\"#000000\" points=\"347,-179.5 246,-179.5 246,-111.5 347,-111.5 347,-179.5\"/>\n<text text-anchor=\"middle\" x=\"296.5\" y=\"-164.3\" font-family=\"Helvetica,sans-Serif\" font-size=\"14.00\" fill=\"#000000\">entropy = 0.0</text>\n<text text-anchor=\"middle\" x=\"296.5\" y=\"-149.3\" font-family=\"Helvetica,sans-Serif\" font-size=\"14.00\" fill=\"#000000\">samples = 3</text>\n<text text-anchor=\"middle\" x=\"296.5\" y=\"-134.3\" font-family=\"Helvetica,sans-Serif\" font-size=\"14.00\" fill=\"#000000\">value = [0, 3]</text>\n<text text-anchor=\"middle\" x=\"296.5\" y=\"-119.3\" font-family=\"Helvetica,sans-Serif\" font-size=\"14.00\" fill=\"#000000\">class = yes</text>\n</g>\n<!-- 8&#45;&gt;9 -->\n<g id=\"edge9\" class=\"edge\">\n<title>8&#45;&gt;9</title>\n<path fill=\"none\" stroke=\"#000000\" d=\"M299.101,-222.8796C298.7425,-212.2134 298.3555,-200.7021 297.9925,-189.9015\"/>\n<polygon fill=\"#000000\" stroke=\"#000000\" points=\"301.4875,-189.6917 297.6534,-179.8149 294.4915,-189.9269 301.4875,-189.6917\"/>\n</g>\n<!-- 10 -->\n<g id=\"node11\" class=\"node\">\n<title>10</title>\n<polygon fill=\"none\" stroke=\"#000000\" points=\"480,-187 365,-187 365,-104 480,-104 480,-187\"/>\n<text text-anchor=\"middle\" x=\"422.5\" y=\"-171.8\" font-family=\"Helvetica,sans-Serif\" font-size=\"14.00\" fill=\"#000000\">humidity &lt;= 0.5</text>\n<text text-anchor=\"middle\" x=\"422.5\" y=\"-156.8\" font-family=\"Helvetica,sans-Serif\" font-size=\"14.00\" fill=\"#000000\">entropy = 1.0</text>\n<text text-anchor=\"middle\" x=\"422.5\" y=\"-141.8\" font-family=\"Helvetica,sans-Serif\" font-size=\"14.00\" fill=\"#000000\">samples = 2</text>\n<text text-anchor=\"middle\" x=\"422.5\" y=\"-126.8\" font-family=\"Helvetica,sans-Serif\" font-size=\"14.00\" fill=\"#000000\">value = [1, 1]</text>\n<text text-anchor=\"middle\" x=\"422.5\" y=\"-111.8\" font-family=\"Helvetica,sans-Serif\" font-size=\"14.00\" fill=\"#000000\">class = no</text>\n</g>\n<!-- 8&#45;&gt;10 -->\n<g id=\"edge10\" class=\"edge\">\n<title>8&#45;&gt;10</title>\n<path fill=\"none\" stroke=\"#000000\" d=\"M343.1697,-222.8796C352.5877,-213.6931 362.6484,-203.8798 372.3328,-194.4336\"/>\n<polygon fill=\"#000000\" stroke=\"#000000\" points=\"374.9335,-196.7861 379.6482,-187.2981 370.0457,-191.7751 374.9335,-196.7861\"/>\n</g>\n<!-- 11 -->\n<g id=\"node12\" class=\"node\">\n<title>11</title>\n<polygon fill=\"none\" stroke=\"#000000\" points=\"407,-68 306,-68 306,0 407,0 407,-68\"/>\n<text text-anchor=\"middle\" x=\"356.5\" y=\"-52.8\" font-family=\"Helvetica,sans-Serif\" font-size=\"14.00\" fill=\"#000000\">entropy = 0.0</text>\n<text text-anchor=\"middle\" x=\"356.5\" y=\"-37.8\" font-family=\"Helvetica,sans-Serif\" font-size=\"14.00\" fill=\"#000000\">samples = 1</text>\n<text text-anchor=\"middle\" x=\"356.5\" y=\"-22.8\" font-family=\"Helvetica,sans-Serif\" font-size=\"14.00\" fill=\"#000000\">value = [1, 0]</text>\n<text text-anchor=\"middle\" x=\"356.5\" y=\"-7.8\" font-family=\"Helvetica,sans-Serif\" font-size=\"14.00\" fill=\"#000000\">class = no</text>\n</g>\n<!-- 10&#45;&gt;11 -->\n<g id=\"edge11\" class=\"edge\">\n<title>10&#45;&gt;11</title>\n<path fill=\"none\" stroke=\"#000000\" d=\"M397.924,-103.9815C392.7014,-95.1585 387.1771,-85.8258 381.9237,-76.9506\"/>\n<polygon fill=\"#000000\" stroke=\"#000000\" points=\"384.8874,-75.0863 376.7816,-68.2637 378.8636,-78.652 384.8874,-75.0863\"/>\n</g>\n<!-- 12 -->\n<g id=\"node13\" class=\"node\">\n<title>12</title>\n<polygon fill=\"none\" stroke=\"#000000\" points=\"526,-68 425,-68 425,0 526,0 526,-68\"/>\n<text text-anchor=\"middle\" x=\"475.5\" y=\"-52.8\" font-family=\"Helvetica,sans-Serif\" font-size=\"14.00\" fill=\"#000000\">entropy = 0.0</text>\n<text text-anchor=\"middle\" x=\"475.5\" y=\"-37.8\" font-family=\"Helvetica,sans-Serif\" font-size=\"14.00\" fill=\"#000000\">samples = 1</text>\n<text text-anchor=\"middle\" x=\"475.5\" y=\"-22.8\" font-family=\"Helvetica,sans-Serif\" font-size=\"14.00\" fill=\"#000000\">value = [0, 1]</text>\n<text text-anchor=\"middle\" x=\"475.5\" y=\"-7.8\" font-family=\"Helvetica,sans-Serif\" font-size=\"14.00\" fill=\"#000000\">class = yes</text>\n</g>\n<!-- 10&#45;&gt;12 -->\n<g id=\"edge12\" class=\"edge\">\n<title>10&#45;&gt;12</title>\n<path fill=\"none\" stroke=\"#000000\" d=\"M442.2352,-103.9815C446.3418,-95.3423 450.6806,-86.2144 454.8201,-77.5059\"/>\n<polygon fill=\"#000000\" stroke=\"#000000\" points=\"458.0812,-78.7979 459.2132,-68.2637 451.7591,-75.7927 458.0812,-78.7979\"/>\n</g>\n</g>\n</svg>\n"
          },
          "metadata": {},
          "execution_count": 22
        }
      ]
    },
    {
      "cell_type": "code",
      "source": [],
      "metadata": {
        "id": "xcCPWvqf1H76"
      },
      "execution_count": null,
      "outputs": []
    },
    {
      "cell_type": "code",
      "metadata": {
        "colab": {
          "base_uri": "https://localhost:8080/"
        },
        "id": "mEFTasJ5Yaej",
        "outputId": "0d0ea800-347f-4743-ae05-5a07f2e42924"
      },
      "source": [
        "# 학습한 모델을 사용하여 예측(predict method)\n",
        "# closed test?? open test??\n",
        "predict_result = decision_tree.predict(x_data)\n",
        "\n",
        "# 예측 결과 출력 (실제 정답을 맞춘 경우 True로 표시됨)\n",
        "print(predict_result == y_data)"
      ],
      "execution_count": 23,
      "outputs": [
        {
          "output_type": "stream",
          "name": "stdout",
          "text": [
            "0     True\n",
            "1     True\n",
            "2     True\n",
            "3     True\n",
            "4     True\n",
            "5     True\n",
            "6     True\n",
            "7     True\n",
            "8     True\n",
            "9     True\n",
            "10    True\n",
            "11    True\n",
            "12    True\n",
            "13    True\n",
            "Name: play, dtype: bool\n"
          ]
        }
      ]
    },
    {
      "cell_type": "markdown",
      "source": [
        "데이터 전처리를 할 때 요일의 경우 비교적 사람들이 운동을 하기 쉬운 날인 dayoff와 하기 쉽지 않은 날인 weekday로 나누었다. 기준은 주말과 주말 전날인 금요일을 dayoff로 지정했고 그 외의 요일들은 weekday로 지정했다.\n",
        "시간의 경우 05시부터 11시까지는 아침, 12시부터 17시까지는 점심, 18시부터 23시까지는 저녁, 그 외의 시간대는 새벽으로 나누어 지정했다. 이번 데이터셋에는 새벽 시간대가 없어 아침, 점심, 저녁 시간대로만 구분되어 전처리됐다.\n"
      ],
      "metadata": {
        "id": "eDC-xYNry61C"
      }
    }
  ]
}