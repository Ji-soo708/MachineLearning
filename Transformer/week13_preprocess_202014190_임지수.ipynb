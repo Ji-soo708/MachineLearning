{
 "cells": [
  {
   "cell_type": "code",
   "execution_count": 1,
   "id": "fa9680e1",
   "metadata": {},
   "outputs": [],
   "source": [
    "import os\n",
    "import json\n",
    "\n",
    "file_dir = \"C:/기계학습/202014190_임지수/031.온라인 구어체 말뭉치 데이터/01.데이터/1.Training_220728_add/원천데이터/TS1/유머\"\n",
    "\n",
    "\n",
    "# 이 코드를 여러번 돌려 10000개의 문장을 전처리 하여 pre_sampling.txt 파일로 만듦\n",
    "\n",
    "with open(file_dir+'/BOHU210001404402' + \".json\", 'r', encoding='utf-8') as f1:\n",
    "    json_data = json.load(f1)\n",
    "    text_data = json_data[\"SJML\"][\"text\"]\n",
    "        \n",
    "    for j in range(len(text_data)):\n",
    "        data_space = text_data[j][\"content\"]\n",
    "            \n",
    "        if(len(data_space) > 20):\n",
    "            data_space = data_space[:20]\n",
    "    \n",
    "        data_space = \" \".join(data_space)\n",
    "            \n",
    "        #<SP> 처리\n",
    "        data_space = data_space.replace(\"  \", \" <SP>\")\n",
    "        \n",
    "        #탭처리\n",
    "        if (j%2==0):\n",
    "            fin_data = data_space +\"\\t\"\n",
    "        #<\\S>처리하고 줄 바꿈\n",
    "        else:\n",
    "            fin_data += data_space+ \" </S>\"+ \" \\n\"\n",
    "            with open(\"pre_sampling.txt\", \"a\") as f2:\n",
    "                f2.writelines(fin_data)"
   ]
  },
  {
   "cell_type": "code",
   "execution_count": null,
   "id": "8cb2197a",
   "metadata": {},
   "outputs": [],
   "source": []
  }
 ],
 "metadata": {
  "kernelspec": {
   "display_name": "Python 3 (ipykernel)",
   "language": "python",
   "name": "python3"
  },
  "language_info": {
   "codemirror_mode": {
    "name": "ipython",
    "version": 3
   },
   "file_extension": ".py",
   "mimetype": "text/x-python",
   "name": "python",
   "nbconvert_exporter": "python",
   "pygments_lexer": "ipython3",
   "version": "3.9.7"
  }
 },
 "nbformat": 4,
 "nbformat_minor": 5
}
